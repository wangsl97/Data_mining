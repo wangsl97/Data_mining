{
 "cells": [
  {
   "cell_type": "markdown",
   "metadata": {},
   "source": [
    "# 轨道不平整数据挖掘"
   ]
  },
  {
   "cell_type": "markdown",
   "metadata": {},
   "source": [
    "# 1、数据预处理"
   ]
  },
  {
   "cell_type": "markdown",
   "metadata": {},
   "source": [
    "## 1.1 读取数据"
   ]
  },
  {
   "cell_type": "code",
   "execution_count": null,
   "metadata": {},
   "outputs": [],
   "source": [
    "import pandas as pd                #引入pandas，读取数据\n",
    "import numpy as np                 #引入numpy，过程运算\n",
    "import matplotlib.pyplot as plt    #引入matplotlib，绘图显示\n",
    "import matplotlib\n",
    "\n",
    "matplotlib.rcParams['font.sans-serif'] = ['FangSong'] # 指定默认字体\n",
    "matplotlib.rcParams['axes.unicode_minus'] = False    # 解决保存图像是负号'-'显示为方块的问题\n",
    "\n",
    "original_data = pd.read_csv('original_data.txt',sep=',',encoding='GBK') #加载original_data.txt,指定它的分隔符是\\t\n",
    "original_data.head() #显示数据的前几行\n",
    "# original_data.tail() #显示数据的后几行"
   ]
  },
  {
   "cell_type": "code",
   "execution_count": null,
   "metadata": {},
   "outputs": [],
   "source": [
    "# 删除不需要的数据列\n",
    "del original_data['Flags']\n",
    "del original_data['Event']\n",
    "del original_data['超高(mm)']\n",
    "del original_data['曲率(radpkm)']\n",
    "del original_data['横向加速度(g)']\n",
    "del original_data['垂向加速度(g)']\n",
    "del original_data['速度(km/h)']\n",
    "del original_data['地面标志()']\n",
    "\n",
    "index = (original_data['里程']-1)*4000 + original_data['Meters']/0.25\n",
    "original_data.insert(0,'index',index)\n",
    "\n",
    "original_data.head() #显示数据的前几行"
   ]
  },
  {
   "cell_type": "code",
   "execution_count": null,
   "metadata": {},
   "outputs": [],
   "source": [
    "original_data.tail() #显示数据的后几行"
   ]
  },
  {
   "cell_type": "markdown",
   "metadata": {},
   "source": [
    "## 1.2 将处理后的表格数据保存至二维数组（矩阵）"
   ]
  },
  {
   "cell_type": "code",
   "execution_count": null,
   "metadata": {},
   "outputs": [],
   "source": [
    "data = original_data.to_numpy()   # 将数据转换为二维数组形式方便调用\n",
    "new_data = data[::-1]             # 数据按行反转顺序存储（索引升序排列）"
   ]
  },
  {
   "cell_type": "code",
   "execution_count": null,
   "metadata": {},
   "outputs": [],
   "source": [
    "# 显示数据索引（理论上为升序）\n",
    "new_data[:,0]"
   ]
  },
  {
   "cell_type": "markdown",
   "metadata": {},
   "source": [
    "## 1.3 数据清洗（样本增补与删减） "
   ]
  },
  {
   "cell_type": "code",
   "execution_count": null,
   "metadata": {},
   "outputs": [],
   "source": [
    "# 显示数据存在异常\n",
    "plt.plot(new_data[3990:4023,0])\n",
    "plt.title(\"里程“1”内的数据不完整\")\n",
    "plt.show()\n",
    "\n",
    "new_data[3990:4023,0]"
   ]
  },
  {
   "cell_type": "code",
   "execution_count": null,
   "metadata": {},
   "outputs": [],
   "source": [
    "# 复制数据到新的变量\n",
    "use_data = new_data[:]\n",
    "use_data.shape"
   ]
  },
  {
   "cell_type": "code",
   "execution_count": null,
   "metadata": {
    "scrolled": true
   },
   "outputs": [],
   "source": [
    "# 检查所有里程内的数据点是否符合要求\n",
    "for i in range(1,61):\n",
    "    number= 0\n",
    "    \n",
    "    for m in range(use_data.shape[0]):\n",
    "        if use_data[m,1] == i:\n",
    "            number +=1\n",
    "    \n",
    "    if number==4000:\n",
    "        print(\"The number of \" + str(i) + \" is \" + str(number) + \" Right !\")\n",
    "    elif number>=4000:\n",
    "        print(\"The number of \" + str(i) + \" is \" + str(number) + \" ------------------------- + !\")\n",
    "    elif number<=4000:\n",
    "        print(\"The number of \" + str(i) + \" is \" + str(number) + \" ------------------------- - !\")"
   ]
  },
  {
   "cell_type": "code",
   "execution_count": null,
   "metadata": {},
   "outputs": [],
   "source": [
    "# 补行操作和删重操作\n",
    "for i in range(240000):\n",
    "    print(str(i) + \" ------------------Operation---------------------\")\n",
    "    zero_padding = np.zeros((1,10),dtype = float)\n",
    "    if int(use_data[i,0])>i:\n",
    "        zero_padding[0,0]=i\n",
    "        zero_padding[0,1]=((i//4000)+1)\n",
    "        print(zero_padding[0,1])\n",
    "        use_data = np.insert(use_data,i,zero_padding,axis=0)\n",
    "        print(\"增加行并补零处理完成\")\n",
    "    elif int(use_data[i,0])<i:\n",
    "        use_data = np.delete(use_data,i,axis=0)\n",
    "        i -= 1\n",
    "        print(\"删除重复行操作完成 \" + str(i))\n",
    "    #else:\n",
    "        #print(\"无误，继续操作\")"
   ]
  },
  {
   "cell_type": "code",
   "execution_count": null,
   "metadata": {
    "scrolled": true
   },
   "outputs": [],
   "source": [
    "# 验证处理后的所有里程内的数据点已经符合要求\n",
    "for i in range(1,61):\n",
    "    number= 0\n",
    "    \n",
    "    for m in range(use_data.shape[0]):\n",
    "        if use_data[m,1] == i:\n",
    "            number +=1\n",
    "            \n",
    "    if number==4000:\n",
    "        print(\"The number of \" + str(i) + \" is \" + str(number) + \" Right !\")\n",
    "    elif number>=4000:\n",
    "        print(\"The number of \" + str(i) + \" is \" + str(number) + \"------------------------- + !\")\n",
    "    elif number<=4000:\n",
    "        print(\"The number of \" + str(i) + \" is \" + str(number) + \"------------------------- - !\")"
   ]
  },
  {
   "cell_type": "code",
   "execution_count": null,
   "metadata": {},
   "outputs": [],
   "source": [
    "# 检查处理后的数据尺寸\n",
    "use_data.shape"
   ]
  },
  {
   "cell_type": "code",
   "execution_count": null,
   "metadata": {},
   "outputs": [],
   "source": [
    "# 复制数据\n",
    "fact_data = use_data[:]"
   ]
  },
  {
   "cell_type": "markdown",
   "metadata": {},
   "source": [
    "## 1.4 数据异常值剔除"
   ]
  },
  {
   "cell_type": "code",
   "execution_count": null,
   "metadata": {
    "scrolled": true
   },
   "outputs": [],
   "source": [
    "# 转置数据矩阵便于绘图\n",
    "fact_tran_data = fact_data.T\n",
    "\n",
    "for column in fact_tran_data:\n",
    "    plt.plot(column)\n",
    "    plt.show()"
   ]
  },
  {
   "cell_type": "code",
   "execution_count": null,
   "metadata": {},
   "outputs": [],
   "source": [
    "# 删除前三列数据，只保留用于后期数据分析的数据\n",
    "fact_data = np.delete(fact_data,0,axis=1)\n",
    "fact_data = np.delete(fact_data,0,axis=1)\n",
    "fact_data = np.delete(fact_data,0,axis=1)"
   ]
  },
  {
   "cell_type": "code",
   "execution_count": null,
   "metadata": {},
   "outputs": [],
   "source": [
    "# 根据轨道动态几何尺寸容许偏差管理值设置阈值\n",
    "for m in range(240000):\n",
    "    if fact_data[m,0]>6:\n",
    "        fact_data[m,0]=6\n",
    "        print(\"校正左高低偏差完成！\\t\")\n",
    "    if fact_data[m,1]>6:\n",
    "        fact_data[m,1]=6\n",
    "        print(\"校正右高低偏差完成！\\t\")\n",
    "    if fact_data[m,2]>5:\n",
    "        fact_data[m,2]=5\n",
    "        print(\"校正左轨向上偏差完成！\\t\")\n",
    "    if fact_data[m,2]<-5:\n",
    "        fact_data[m,2]=-5\n",
    "        print(\"校正左轨向下偏差完成！\\t\")\n",
    "    if fact_data[m,3]>5:\n",
    "        fact_data[m,3]=5\n",
    "        print(\"校正右轨向偏差完成！\\t\")\n",
    "    if fact_data[m,3]<-5:\n",
    "        fact_data[m,3]=-5\n",
    "        print(\"校正右轨向下偏差完成！\\t\")\n",
    "    if fact_data[m,4]>6:\n",
    "        fact_data[m,4]=6\n",
    "        print(\"校正轨距上偏差完成！\\t\")\n",
    "    if fact_data[m,4]<-4:\n",
    "        fact_data[m,4]=-4\n",
    "        print(\"校正轨距下偏差完成！\\t\")\n",
    "    if fact_data[m,5]>6:\n",
    "        fact_data[m,5]=6\n",
    "        print(\"校正水平偏差完成！\\t\")\n",
    "    if fact_data[m,6]>5:\n",
    "        fact_data[m,6]=5\n",
    "        print(\"校正三角坑偏差完成！\\t\")"
   ]
  },
  {
   "cell_type": "code",
   "execution_count": null,
   "metadata": {
    "scrolled": true
   },
   "outputs": [],
   "source": [
    "# 绘制异常值更改后的波动图\n",
    "fact_tran_data = fact_data.T\n",
    "\n",
    "for column in fact_tran_data:\n",
    "    plt.plot(column)\n",
    "    plt.show()"
   ]
  },
  {
   "cell_type": "markdown",
   "metadata": {},
   "source": [
    "# 2、皮尔森相关性分析"
   ]
  },
  {
   "cell_type": "markdown",
   "metadata": {},
   "source": [
    "## 2.1 异常值去除前相关性分析"
   ]
  },
  {
   "cell_type": "code",
   "execution_count": null,
   "metadata": {},
   "outputs": [],
   "source": [
    "# 分别定义7列数据\n",
    "l_hl = use_data[:,3]\n",
    "r_hl = use_data[:,4]\n",
    "l_td = use_data[:,5]\n",
    "r_td = use_data[:,6]\n",
    "tdistance = use_data[:,7]\n",
    "ho = use_data[:,8]\n",
    "tp = use_data[:,9]"
   ]
  },
  {
   "cell_type": "code",
   "execution_count": null,
   "metadata": {},
   "outputs": [],
   "source": [
    "# 绘制皮尔森相关系数矩阵并可视化\n",
    "correlation_coefficient = np.array([l_hl,r_hl,l_td,r_td,tdistance,ho,tp])\n",
    "i =  np.corrcoef(correlation_coefficient)\n",
    "\n",
    "plt.imshow(i)\n",
    "plt.colorbar()\n",
    "plt.title(\"皮尔森相关系数矩阵——异常值去除前\")\n",
    "plt.show()"
   ]
  },
  {
   "cell_type": "markdown",
   "metadata": {},
   "source": [
    "## 2.2 异常值去除后相关性分析"
   ]
  },
  {
   "cell_type": "code",
   "execution_count": null,
   "metadata": {},
   "outputs": [],
   "source": [
    "# 分别定义7列数据\n",
    "l_hl = fact_tran_data[:,0]\n",
    "r_hl = fact_tran_data[:,1]\n",
    "l_td = fact_tran_data[:,2]\n",
    "r_td = fact_tran_data[:,3]\n",
    "tdistance = fact_tran_data[:,4]\n",
    "ho = fact_tran_data[:,5]\n",
    "tp = fact_tran_data[:,6]"
   ]
  },
  {
   "cell_type": "code",
   "execution_count": null,
   "metadata": {},
   "outputs": [],
   "source": [
    "# 绘制皮尔森相关系数矩阵并可视化\n",
    "correlation_coefficient = np.array([l_hl,r_hl,l_td,r_td,tdistance,ho,tp])\n",
    "i =  np.corrcoef(correlation_coefficient)\n",
    "\n",
    "plt.imshow(i)\n",
    "plt.colorbar()\n",
    "plt.title(\"皮尔森相关系数矩阵——异常值去除后\")\n",
    "plt.show()"
   ]
  },
  {
   "cell_type": "markdown",
   "metadata": {},
   "source": [
    "# 3、数据划分（训练集与测试集）"
   ]
  },
  {
   "cell_type": "code",
   "execution_count": null,
   "metadata": {},
   "outputs": [],
   "source": [
    "# 将240000个数据点划分为300个单元，每个单元（200m）包含800个数据点\n",
    "x = fact_data[:]\n",
    "res = np.vsplit(x, 300) "
   ]
  },
  {
   "cell_type": "code",
   "execution_count": null,
   "metadata": {},
   "outputs": [],
   "source": [
    "# 定义轨道质量指数（TQI）计算函数\n",
    "import math\n",
    "def TQI(input_data):\n",
    "    sum_data = np.sum(input_data,axis=0)\n",
    "    average_data = sum_data/input_data.shape[0]\n",
    "    standard_data = 0\n",
    "    square_sum = 0\n",
    "    standard = 0\n",
    "    for m in range(input_data.shape[1]):\n",
    "        for n in range(input_data.shape[0]):\n",
    "            square_sum += input_data[n,m]**2\n",
    "        standard = math.sqrt(square_sum/n - average_data[m]**2)\n",
    "        standard_data += standard\n",
    "    return standard_data\n",
    "    print(standard_data)\n",
    "    print(type(standard_data))"
   ]
  },
  {
   "cell_type": "code",
   "execution_count": null,
   "metadata": {},
   "outputs": [],
   "source": [
    "# 计算出所有300个TQI，并放到一维数组中\n",
    "tqi_summary = np.zeros((1,300),dtype=float)\n",
    "for i in range(300):\n",
    "    block = np.zeros((800,7),dtype=float)\n",
    "    block += res[i]\n",
    "    print(\"The \" + str(i) + \"'s shape is \" + str(block.shape))\n",
    "    tqi = TQI(block)\n",
    "    m=i//300\n",
    "    n=i%300\n",
    "    tqi_summary[m,n] += tqi\n",
    "    \n",
    "print(tqi_summary.shape)\n",
    "tqi_summary"
   ]
  },
  {
   "cell_type": "code",
   "execution_count": null,
   "metadata": {},
   "outputs": [],
   "source": [
    "# 绘制出60km的TQI值变化曲线\n",
    "plt.plot(tqi_summary[0,:])\n",
    "plt.title(\"实际所有轨道单元的TQI值\")\n",
    "plt.show()"
   ]
  },
  {
   "cell_type": "code",
   "execution_count": null,
   "metadata": {},
   "outputs": [],
   "source": [
    "# 保存训练集数据到txt文件\n",
    "train_data = tqi_summary[0,0:295]\n",
    "train_data = train_data.reshape(295,1)\n",
    "\n",
    "np.savetxt(\"tqi.txt\", train_data,fmt='%f',delimiter='\\t')"
   ]
  },
  {
   "cell_type": "markdown",
   "metadata": {},
   "source": [
    "# 4、灰色预测模型"
   ]
  },
  {
   "cell_type": "markdown",
   "metadata": {},
   "source": [
    "## 4.1 模型搭建"
   ]
  },
  {
   "cell_type": "code",
   "execution_count": null,
   "metadata": {},
   "outputs": [],
   "source": [
    "import pandas as pd\n",
    "import numpy as np\n",
    "\n",
    "%matplotlib inline\n",
    "import matplotlib.pyplot as plt\n",
    "import matplotlib\n",
    "matplotlib.rcParams['font.sans-serif'] = ['FangSong'] # 指定默认字体\n",
    "matplotlib.rcParams['axes.unicode_minus'] = False    # 解决保存图像是负号'-'显示为方块的问题"
   ]
  },
  {
   "cell_type": "code",
   "execution_count": null,
   "metadata": {},
   "outputs": [],
   "source": [
    "class GrayForecast():\n",
    "    #初始化\n",
    "    def __init__(self, data, datacolumn=None):\n",
    "        if isinstance(data, pd.core.frame.DataFrame):\n",
    "            self.data=data\n",
    "            try:\n",
    "                self.data.columns = ['数据']\n",
    "            except:\n",
    "                if not datacolumn:\n",
    "                    raise Exception('您传入的dataframe不止一列')\n",
    "                else:\n",
    "                    self.data = pd.DataFrame(data[datacolumn])\n",
    "                    self.data.columns=['数据']\n",
    "        elif isinstance(data, pd.core.series.Series):\n",
    "            self.data = pd.DataFrame(data, columns=['数据'])\n",
    "        else:\n",
    "            self.data = pd.DataFrame(data, columns=['数据'])\n",
    "\n",
    "        self.forecast_list = self.data.copy()\n",
    "\n",
    "        if datacolumn:\n",
    "            self.datacolumn = datacolumn\n",
    "        else:\n",
    "            self.datacolumn = None\n",
    "    #级比校验\n",
    "    def level_check(self):\n",
    "            # 数据级比校验\n",
    "        n = len(self.data)\n",
    "        lambda_k = np.zeros(n-1)\n",
    "        for i in range(n-1):\n",
    "            lambda_k[i] = self.data.ix[i][\"数据\"]/self.data.ix[i+1][\"数据\"]\n",
    "            if lambda_k[i] < np.exp(-2/(n+1)) or lambda_k[i] > np.exp(2/(n+2)):\n",
    "                flag = False\n",
    "        else:\n",
    "            flag = True\n",
    "\n",
    "        self.lambda_k = lambda_k\n",
    "\n",
    "        if not flag:\n",
    "            print(\"级比校验失败，请对X(0)做平移变换\")\n",
    "            return False\n",
    "        else:\n",
    "            print(\"级比校验成功，请继续\")\n",
    "            return True\n",
    "    #GM(1,1)建模\n",
    "    def GM_11_build_model(self, forecast=5):\n",
    "        if forecast > len(self.data):\n",
    "            raise Exception('您的数据行不够')\n",
    "        X_0 = np.array(self.forecast_list['数据'].tail(forecast))\n",
    "        #       1-AGO\n",
    "        X_1 = np.zeros(X_0.shape)\n",
    "        for i in range(X_0.shape[0]):\n",
    "            X_1[i] = np.sum(X_0[0:i+1])\n",
    "        #       紧邻均值生成序列\n",
    "        Z_1 = np.zeros(X_1.shape[0]-1)\n",
    "        for i in range(1, X_1.shape[0]):\n",
    "            Z_1[i-1] = -0.5*(X_1[i]+X_1[i-1])\n",
    "\n",
    "        B = np.append(np.array(np.mat(Z_1).T), np.ones(Z_1.shape).reshape((Z_1.shape[0], 1)), axis=1)\n",
    "        Yn = X_0[1:].reshape((X_0[1:].shape[0], 1))\n",
    "\n",
    "        B = np.mat(B)\n",
    "        Yn = np.mat(Yn)\n",
    "        a_ = (B.T*B)**-1 * B.T * Yn\n",
    "\n",
    "        a, b = np.array(a_.T)[0]\n",
    "\n",
    "        X_ = np.zeros(X_0.shape[0])\n",
    "        def f(k):\n",
    "            return (X_0[0]-b/a)*(1-np.exp(a))*np.exp(-a*(k))\n",
    "\n",
    "        self.forecast_list.loc[len(self.forecast_list)] = f(X_.shape[0])\n",
    "    #预测\n",
    "    def forecast(self, time=5, forecast_data_len=5):\n",
    "        for i in range(time):\n",
    "            self.GM_11_build_model(forecast=forecast_data_len)\n",
    "    #打印日志\n",
    "    def log(self):\n",
    "        res = self.forecast_list.copy()\n",
    "        if self.datacolumn:\n",
    "            res.columns = [self.datacolumn]\n",
    "        return res\n",
    "    #重置\n",
    "    def reset(self):\n",
    "        self.forecast_list = self.data.copy()\n",
    "    #作图\n",
    "    def plot(self):\n",
    "        self.forecast_list.plot()\n",
    "        if self.datacolumn:\n",
    "            plt.ylabel(self.datacolumn)\n",
    "            plt.legend([self.datacolumn])"
   ]
  },
  {
   "cell_type": "markdown",
   "metadata": {},
   "source": [
    "## 4.2 模型训练与预测"
   ]
  },
  {
   "cell_type": "code",
   "execution_count": null,
   "metadata": {},
   "outputs": [],
   "source": [
    "# 读取训练集并进行模型训练\n",
    "df = pd.read_csv(\"tqi.txt\", header=None, encoding=\"utf8\")"
   ]
  },
  {
   "cell_type": "code",
   "execution_count": null,
   "metadata": {
    "scrolled": true
   },
   "outputs": [],
   "source": [
    "# 使用模型对最后1km的TQI进行预测\n",
    "gf = GrayForecast(df)\n",
    "gf.forecast(5)\n",
    "gf.log()"
   ]
  },
  {
   "cell_type": "code",
   "execution_count": null,
   "metadata": {
    "scrolled": false
   },
   "outputs": [],
   "source": [
    "# 绘制预测的TQI变化曲线\n",
    "gf.plot()"
   ]
  },
  {
   "cell_type": "markdown",
   "metadata": {},
   "source": [
    "## 4.3 模型检验与讨论"
   ]
  },
  {
   "cell_type": "code",
   "execution_count": null,
   "metadata": {},
   "outputs": [],
   "source": [
    "predict_values = np.array([10.339481,9.839676,8.842598,9.150337,8.436515]).reshape(5,1)  # 预测值\n",
    "truth_values = tqi_summary[0,295:3000].reshape(5,1)                                      # 实际值\n",
    "\n",
    "stack = np.hstack([truth_values,predict_values])\n",
    "\n",
    "abso_difference = predict_values - truth_values                                          # 绝对误差\n",
    "rela_difference = (predict_values - truth_values)/truth_values                           # 相对误差\n",
    "\n",
    "stack = np.hstack([stack,abso_difference])\n",
    "stack = np.hstack([stack,rela_difference])\n",
    "\n",
    "print(stack)"
   ]
  }
 ],
 "metadata": {
  "kernelspec": {
   "display_name": "Python [conda env:root] *",
   "language": "python",
   "name": "conda-root-py"
  },
  "language_info": {
   "codemirror_mode": {
    "name": "ipython",
    "version": 3
   },
   "file_extension": ".py",
   "mimetype": "text/x-python",
   "name": "python",
   "nbconvert_exporter": "python",
   "pygments_lexer": "ipython3",
   "version": "3.7.4"
  }
 },
 "nbformat": 4,
 "nbformat_minor": 2
}
